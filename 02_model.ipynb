{
 "cells": [
  {
   "cell_type": "code",
   "execution_count": 278,
   "id": "e487cd16",
   "metadata": {},
   "outputs": [],
   "source": [
    "import numpy as np\n",
    "import pandas as pd\n",
    "from sklearn.model_selection import cross_validate"
   ]
  },
  {
   "attachments": {},
   "cell_type": "markdown",
   "id": "f41eb8c1",
   "metadata": {},
   "source": [
    "# 1. Load Data"
   ]
  },
  {
   "cell_type": "code",
   "execution_count": 279,
   "id": "4f196c19",
   "metadata": {},
   "outputs": [
    {
     "data": {
      "text/html": [
       "<div>\n",
       "<style scoped>\n",
       "    .dataframe tbody tr th:only-of-type {\n",
       "        vertical-align: middle;\n",
       "    }\n",
       "\n",
       "    .dataframe tbody tr th {\n",
       "        vertical-align: top;\n",
       "    }\n",
       "\n",
       "    .dataframe thead th {\n",
       "        text-align: right;\n",
       "    }\n",
       "</style>\n",
       "<table border=\"1\" class=\"dataframe\">\n",
       "  <thead>\n",
       "    <tr style=\"text-align: right;\">\n",
       "      <th></th>\n",
       "      <th>Unnamed: 0</th>\n",
       "      <th>Flow ID</th>\n",
       "      <th>Source IP</th>\n",
       "      <th>Source Port</th>\n",
       "      <th>Destination IP</th>\n",
       "      <th>Destination Port</th>\n",
       "      <th>Protocol</th>\n",
       "      <th>Timestamp</th>\n",
       "      <th>Flow Duration</th>\n",
       "      <th>Total Fwd Packets</th>\n",
       "      <th>...</th>\n",
       "      <th>min_seg_size_forward</th>\n",
       "      <th>Active Mean</th>\n",
       "      <th>Active Std</th>\n",
       "      <th>Active Max</th>\n",
       "      <th>Active Min</th>\n",
       "      <th>Idle Mean</th>\n",
       "      <th>Idle Std</th>\n",
       "      <th>Idle Max</th>\n",
       "      <th>Idle Min</th>\n",
       "      <th>Label</th>\n",
       "    </tr>\n",
       "  </thead>\n",
       "  <tbody>\n",
       "    <tr>\n",
       "      <th>0</th>\n",
       "      <td>0</td>\n",
       "      <td>192.168.10.3-192.168.10.9-53-56719-17</td>\n",
       "      <td>192.168.10.9</td>\n",
       "      <td>56719.0</td>\n",
       "      <td>192.168.10.3</td>\n",
       "      <td>53.0</td>\n",
       "      <td>17.0</td>\n",
       "      <td>03/07/2017 11:12:04</td>\n",
       "      <td>46640.0</td>\n",
       "      <td>2.0</td>\n",
       "      <td>...</td>\n",
       "      <td>20.0</td>\n",
       "      <td>0.0</td>\n",
       "      <td>0.0</td>\n",
       "      <td>0.0</td>\n",
       "      <td>0.0</td>\n",
       "      <td>0.0</td>\n",
       "      <td>0.0</td>\n",
       "      <td>0.0</td>\n",
       "      <td>0.0</td>\n",
       "      <td>BENIGN</td>\n",
       "    </tr>\n",
       "    <tr>\n",
       "      <th>1</th>\n",
       "      <td>1</td>\n",
       "      <td>192.168.10.3-192.168.10.16-53-29457-17</td>\n",
       "      <td>192.168.10.16</td>\n",
       "      <td>29457.0</td>\n",
       "      <td>192.168.10.3</td>\n",
       "      <td>53.0</td>\n",
       "      <td>17.0</td>\n",
       "      <td>7/7/2017 10:02</td>\n",
       "      <td>62118.0</td>\n",
       "      <td>2.0</td>\n",
       "      <td>...</td>\n",
       "      <td>20.0</td>\n",
       "      <td>0.0</td>\n",
       "      <td>0.0</td>\n",
       "      <td>0.0</td>\n",
       "      <td>0.0</td>\n",
       "      <td>0.0</td>\n",
       "      <td>0.0</td>\n",
       "      <td>0.0</td>\n",
       "      <td>0.0</td>\n",
       "      <td>BENIGN</td>\n",
       "    </tr>\n",
       "    <tr>\n",
       "      <th>2</th>\n",
       "      <td>2</td>\n",
       "      <td>192.168.10.9-72.21.91.29-1662-80-6</td>\n",
       "      <td>72.21.91.29</td>\n",
       "      <td>80.0</td>\n",
       "      <td>192.168.10.9</td>\n",
       "      <td>1662.0</td>\n",
       "      <td>6.0</td>\n",
       "      <td>4/7/2017 9:07</td>\n",
       "      <td>117.0</td>\n",
       "      <td>1.0</td>\n",
       "      <td>...</td>\n",
       "      <td>20.0</td>\n",
       "      <td>0.0</td>\n",
       "      <td>0.0</td>\n",
       "      <td>0.0</td>\n",
       "      <td>0.0</td>\n",
       "      <td>0.0</td>\n",
       "      <td>0.0</td>\n",
       "      <td>0.0</td>\n",
       "      <td>0.0</td>\n",
       "      <td>BENIGN</td>\n",
       "    </tr>\n",
       "    <tr>\n",
       "      <th>3</th>\n",
       "      <td>3</td>\n",
       "      <td>192.168.10.1-192.168.10.3-53-61235-17</td>\n",
       "      <td>192.168.10.3</td>\n",
       "      <td>61235.0</td>\n",
       "      <td>192.168.10.1</td>\n",
       "      <td>53.0</td>\n",
       "      <td>17.0</td>\n",
       "      <td>5/7/2017 9:40</td>\n",
       "      <td>152866.0</td>\n",
       "      <td>1.0</td>\n",
       "      <td>...</td>\n",
       "      <td>20.0</td>\n",
       "      <td>0.0</td>\n",
       "      <td>0.0</td>\n",
       "      <td>0.0</td>\n",
       "      <td>0.0</td>\n",
       "      <td>0.0</td>\n",
       "      <td>0.0</td>\n",
       "      <td>0.0</td>\n",
       "      <td>0.0</td>\n",
       "      <td>BENIGN</td>\n",
       "    </tr>\n",
       "    <tr>\n",
       "      <th>4</th>\n",
       "      <td>4</td>\n",
       "      <td>192.168.10.17-194.244.5.206-43837-443-6</td>\n",
       "      <td>192.168.10.17</td>\n",
       "      <td>43837.0</td>\n",
       "      <td>194.244.5.206</td>\n",
       "      <td>443.0</td>\n",
       "      <td>6.0</td>\n",
       "      <td>03/07/2017 12:43:56</td>\n",
       "      <td>4.0</td>\n",
       "      <td>2.0</td>\n",
       "      <td>...</td>\n",
       "      <td>20.0</td>\n",
       "      <td>0.0</td>\n",
       "      <td>0.0</td>\n",
       "      <td>0.0</td>\n",
       "      <td>0.0</td>\n",
       "      <td>0.0</td>\n",
       "      <td>0.0</td>\n",
       "      <td>0.0</td>\n",
       "      <td>0.0</td>\n",
       "      <td>BENIGN</td>\n",
       "    </tr>\n",
       "    <tr>\n",
       "      <th>...</th>\n",
       "      <td>...</td>\n",
       "      <td>...</td>\n",
       "      <td>...</td>\n",
       "      <td>...</td>\n",
       "      <td>...</td>\n",
       "      <td>...</td>\n",
       "      <td>...</td>\n",
       "      <td>...</td>\n",
       "      <td>...</td>\n",
       "      <td>...</td>\n",
       "      <td>...</td>\n",
       "      <td>...</td>\n",
       "      <td>...</td>\n",
       "      <td>...</td>\n",
       "      <td>...</td>\n",
       "      <td>...</td>\n",
       "      <td>...</td>\n",
       "      <td>...</td>\n",
       "      <td>...</td>\n",
       "      <td>...</td>\n",
       "      <td>...</td>\n",
       "    </tr>\n",
       "    <tr>\n",
       "      <th>54995</th>\n",
       "      <td>54995</td>\n",
       "      <td>172.16.0.1-192.168.10.50-33854-80-6</td>\n",
       "      <td>172.16.0.1</td>\n",
       "      <td>33854.0</td>\n",
       "      <td>192.168.10.50</td>\n",
       "      <td>80.0</td>\n",
       "      <td>6.0</td>\n",
       "      <td>5/7/2017 10:15</td>\n",
       "      <td>108750317.0</td>\n",
       "      <td>6.0</td>\n",
       "      <td>...</td>\n",
       "      <td>32.0</td>\n",
       "      <td>3007401.0</td>\n",
       "      <td>0.0</td>\n",
       "      <td>3007401.0</td>\n",
       "      <td>3007401.0</td>\n",
       "      <td>106000000.0</td>\n",
       "      <td>0.0</td>\n",
       "      <td>106000000.0</td>\n",
       "      <td>106000000.0</td>\n",
       "      <td>DoS Slowhttptest</td>\n",
       "    </tr>\n",
       "    <tr>\n",
       "      <th>54996</th>\n",
       "      <td>54996</td>\n",
       "      <td>172.16.0.1-192.168.10.50-38696-80-6</td>\n",
       "      <td>172.16.0.1</td>\n",
       "      <td>38696.0</td>\n",
       "      <td>192.168.10.50</td>\n",
       "      <td>80.0</td>\n",
       "      <td>6.0</td>\n",
       "      <td>5/7/2017 10:26</td>\n",
       "      <td>63085232.0</td>\n",
       "      <td>7.0</td>\n",
       "      <td>...</td>\n",
       "      <td>40.0</td>\n",
       "      <td>7005402.0</td>\n",
       "      <td>0.0</td>\n",
       "      <td>7005402.0</td>\n",
       "      <td>7005402.0</td>\n",
       "      <td>18700000.0</td>\n",
       "      <td>12200000.0</td>\n",
       "      <td>32000000.0</td>\n",
       "      <td>8015911.0</td>\n",
       "      <td>DoS Slowhttptest</td>\n",
       "    </tr>\n",
       "    <tr>\n",
       "      <th>54997</th>\n",
       "      <td>54997</td>\n",
       "      <td>172.16.0.1-192.168.10.50-37390-80-6</td>\n",
       "      <td>172.16.0.1</td>\n",
       "      <td>37390.0</td>\n",
       "      <td>192.168.10.50</td>\n",
       "      <td>80.0</td>\n",
       "      <td>6.0</td>\n",
       "      <td>5/7/2017 10:22</td>\n",
       "      <td>105213438.0</td>\n",
       "      <td>6.0</td>\n",
       "      <td>...</td>\n",
       "      <td>32.0</td>\n",
       "      <td>3004176.0</td>\n",
       "      <td>0.0</td>\n",
       "      <td>3004176.0</td>\n",
       "      <td>3004176.0</td>\n",
       "      <td>102000000.0</td>\n",
       "      <td>0.0</td>\n",
       "      <td>102000000.0</td>\n",
       "      <td>102000000.0</td>\n",
       "      <td>DoS Slowhttptest</td>\n",
       "    </tr>\n",
       "    <tr>\n",
       "      <th>54998</th>\n",
       "      <td>54998</td>\n",
       "      <td>172.16.0.1-192.168.10.50-49436-80-6</td>\n",
       "      <td>172.16.0.1</td>\n",
       "      <td>49436.0</td>\n",
       "      <td>192.168.10.50</td>\n",
       "      <td>80.0</td>\n",
       "      <td>6.0</td>\n",
       "      <td>5/7/2017 10:33</td>\n",
       "      <td>63137052.0</td>\n",
       "      <td>7.0</td>\n",
       "      <td>...</td>\n",
       "      <td>40.0</td>\n",
       "      <td>7009683.0</td>\n",
       "      <td>0.0</td>\n",
       "      <td>7009683.0</td>\n",
       "      <td>7009683.0</td>\n",
       "      <td>18700000.0</td>\n",
       "      <td>12200000.0</td>\n",
       "      <td>32100000.0</td>\n",
       "      <td>8015940.0</td>\n",
       "      <td>DoS Slowhttptest</td>\n",
       "    </tr>\n",
       "    <tr>\n",
       "      <th>54999</th>\n",
       "      <td>54999</td>\n",
       "      <td>172.16.0.1-192.168.10.50-49738-80-6</td>\n",
       "      <td>172.16.0.1</td>\n",
       "      <td>49738.0</td>\n",
       "      <td>192.168.10.50</td>\n",
       "      <td>80.0</td>\n",
       "      <td>6.0</td>\n",
       "      <td>5/7/2017 10:33</td>\n",
       "      <td>63123619.0</td>\n",
       "      <td>7.0</td>\n",
       "      <td>...</td>\n",
       "      <td>40.0</td>\n",
       "      <td>7011894.0</td>\n",
       "      <td>0.0</td>\n",
       "      <td>7011894.0</td>\n",
       "      <td>7011894.0</td>\n",
       "      <td>18700000.0</td>\n",
       "      <td>12200000.0</td>\n",
       "      <td>32100000.0</td>\n",
       "      <td>8015690.0</td>\n",
       "      <td>DoS Slowhttptest</td>\n",
       "    </tr>\n",
       "  </tbody>\n",
       "</table>\n",
       "<p>55000 rows × 86 columns</p>\n",
       "</div>"
      ],
      "text/plain": [
       "       Unnamed: 0                                  Flow ID      Source IP  \\\n",
       "0               0    192.168.10.3-192.168.10.9-53-56719-17   192.168.10.9   \n",
       "1               1   192.168.10.3-192.168.10.16-53-29457-17  192.168.10.16   \n",
       "2               2       192.168.10.9-72.21.91.29-1662-80-6    72.21.91.29   \n",
       "3               3    192.168.10.1-192.168.10.3-53-61235-17   192.168.10.3   \n",
       "4               4  192.168.10.17-194.244.5.206-43837-443-6  192.168.10.17   \n",
       "...           ...                                      ...            ...   \n",
       "54995       54995      172.16.0.1-192.168.10.50-33854-80-6     172.16.0.1   \n",
       "54996       54996      172.16.0.1-192.168.10.50-38696-80-6     172.16.0.1   \n",
       "54997       54997      172.16.0.1-192.168.10.50-37390-80-6     172.16.0.1   \n",
       "54998       54998      172.16.0.1-192.168.10.50-49436-80-6     172.16.0.1   \n",
       "54999       54999      172.16.0.1-192.168.10.50-49738-80-6     172.16.0.1   \n",
       "\n",
       "       Source Port Destination IP  Destination Port  Protocol  \\\n",
       "0          56719.0   192.168.10.3              53.0      17.0   \n",
       "1          29457.0   192.168.10.3              53.0      17.0   \n",
       "2             80.0   192.168.10.9            1662.0       6.0   \n",
       "3          61235.0   192.168.10.1              53.0      17.0   \n",
       "4          43837.0  194.244.5.206             443.0       6.0   \n",
       "...            ...            ...               ...       ...   \n",
       "54995      33854.0  192.168.10.50              80.0       6.0   \n",
       "54996      38696.0  192.168.10.50              80.0       6.0   \n",
       "54997      37390.0  192.168.10.50              80.0       6.0   \n",
       "54998      49436.0  192.168.10.50              80.0       6.0   \n",
       "54999      49738.0  192.168.10.50              80.0       6.0   \n",
       "\n",
       "                 Timestamp  Flow Duration  Total Fwd Packets  ...  \\\n",
       "0      03/07/2017 11:12:04        46640.0                2.0  ...   \n",
       "1           7/7/2017 10:02        62118.0                2.0  ...   \n",
       "2            4/7/2017 9:07          117.0                1.0  ...   \n",
       "3            5/7/2017 9:40       152866.0                1.0  ...   \n",
       "4      03/07/2017 12:43:56            4.0                2.0  ...   \n",
       "...                    ...            ...                ...  ...   \n",
       "54995       5/7/2017 10:15    108750317.0                6.0  ...   \n",
       "54996       5/7/2017 10:26     63085232.0                7.0  ...   \n",
       "54997       5/7/2017 10:22    105213438.0                6.0  ...   \n",
       "54998       5/7/2017 10:33     63137052.0                7.0  ...   \n",
       "54999       5/7/2017 10:33     63123619.0                7.0  ...   \n",
       "\n",
       "       min_seg_size_forward  Active Mean  Active Std  Active Max  Active Min  \\\n",
       "0                      20.0          0.0         0.0         0.0         0.0   \n",
       "1                      20.0          0.0         0.0         0.0         0.0   \n",
       "2                      20.0          0.0         0.0         0.0         0.0   \n",
       "3                      20.0          0.0         0.0         0.0         0.0   \n",
       "4                      20.0          0.0         0.0         0.0         0.0   \n",
       "...                     ...          ...         ...         ...         ...   \n",
       "54995                  32.0    3007401.0         0.0   3007401.0   3007401.0   \n",
       "54996                  40.0    7005402.0         0.0   7005402.0   7005402.0   \n",
       "54997                  32.0    3004176.0         0.0   3004176.0   3004176.0   \n",
       "54998                  40.0    7009683.0         0.0   7009683.0   7009683.0   \n",
       "54999                  40.0    7011894.0         0.0   7011894.0   7011894.0   \n",
       "\n",
       "         Idle Mean    Idle Std     Idle Max     Idle Min             Label  \n",
       "0              0.0         0.0          0.0          0.0            BENIGN  \n",
       "1              0.0         0.0          0.0          0.0            BENIGN  \n",
       "2              0.0         0.0          0.0          0.0            BENIGN  \n",
       "3              0.0         0.0          0.0          0.0            BENIGN  \n",
       "4              0.0         0.0          0.0          0.0            BENIGN  \n",
       "...            ...         ...          ...          ...               ...  \n",
       "54995  106000000.0         0.0  106000000.0  106000000.0  DoS Slowhttptest  \n",
       "54996   18700000.0  12200000.0   32000000.0    8015911.0  DoS Slowhttptest  \n",
       "54997  102000000.0         0.0  102000000.0  102000000.0  DoS Slowhttptest  \n",
       "54998   18700000.0  12200000.0   32100000.0    8015940.0  DoS Slowhttptest  \n",
       "54999   18700000.0  12200000.0   32100000.0    8015690.0  DoS Slowhttptest  \n",
       "\n",
       "[55000 rows x 86 columns]"
      ]
     },
     "execution_count": 279,
     "metadata": {},
     "output_type": "execute_result"
    }
   ],
   "source": [
    "df = pd.read_csv('data/compact_data.csv')\n",
    "df"
   ]
  },
  {
   "attachments": {},
   "cell_type": "markdown",
   "id": "723aa61a",
   "metadata": {},
   "source": [
    "# 2. Preprocessing"
   ]
  },
  {
   "attachments": {},
   "cell_type": "markdown",
   "id": "bf0e399e",
   "metadata": {},
   "source": [
    "## Select X and Normalzation"
   ]
  },
  {
   "cell_type": "code",
   "execution_count": 280,
   "id": "7b91f90d",
   "metadata": {},
   "outputs": [],
   "source": [
    "x_label=[\n",
    "       'Flow Duration', 'Total Fwd Packets', 'Total Backward Packets',\n",
    "       'Total Length of Fwd Packets', 'Total Length of Bwd Packets',\n",
    "       'Fwd Packet Length Max', 'Fwd Packet Length Min',\n",
    "       'Fwd Packet Length Mean', 'Fwd Packet Length Std',\n",
    "       'Bwd Packet Length Max', 'Bwd Packet Length Min',\n",
    "       'Bwd Packet Length Mean', 'Bwd Packet Length Std', 'Flow Bytes/s',\n",
    "       'Flow Packets/s', 'Flow IAT Mean', 'Flow IAT Std', 'Flow IAT Max',\n",
    "       'Flow IAT Min', 'Fwd IAT Total', 'Fwd IAT Mean', 'Fwd IAT Std',\n",
    "       'Fwd IAT Max', 'Fwd IAT Min', 'Bwd IAT Total', 'Bwd IAT Mean',\n",
    "       'Bwd IAT Std', 'Bwd IAT Max', 'Bwd IAT Min', 'Fwd PSH Flags',\n",
    "       'Bwd PSH Flags', 'Fwd URG Flags', 'Bwd URG Flags', 'Fwd Header Length',\n",
    "       'Bwd Header Length', 'Fwd Packets/s', 'Bwd Packets/s',\n",
    "       'Min Packet Length', 'Max Packet Length', 'Packet Length Mean',\n",
    "       'Packet Length Std', 'Packet Length Variance', 'FIN Flag Count',\n",
    "       'SYN Flag Count', 'RST Flag Count', 'PSH Flag Count', 'ACK Flag Count',\n",
    "       'URG Flag Count', 'CWE Flag Count', 'ECE Flag Count', 'Down/Up Ratio',\n",
    "       'Average Packet Size', 'Avg Fwd Segment Size', 'Avg Bwd Segment Size',\n",
    "       'Fwd Header Length.1', 'Fwd Avg Bytes/Bulk', 'Fwd Avg Packets/Bulk',\n",
    "       'Fwd Avg Bulk Rate', 'Bwd Avg Bytes/Bulk', 'Bwd Avg Packets/Bulk',\n",
    "       'Bwd Avg Bulk Rate', 'Subflow Fwd Packets', 'Subflow Fwd Bytes',\n",
    "       'Subflow Bwd Packets', 'Subflow Bwd Bytes', 'Init_Win_bytes_forward',\n",
    "       'Init_Win_bytes_backward', 'act_data_pkt_fwd', 'min_seg_size_forward',\n",
    "       'Active Mean', 'Active Std', 'Active Max', 'Active Min', 'Idle Mean',\n",
    "       'Idle Std', 'Idle Max', 'Idle Min']\n",
    "\n",
    "df[x_label]=df[x_label].apply(\n",
    "    lambda x: (x - x.min()) / (x.max()-x.min()))\n",
    "df = df.fillna(0)"
   ]
  },
  {
   "attachments": {},
   "cell_type": "markdown",
   "id": "eb87adca",
   "metadata": {},
   "source": [
    "## Label Encoding"
   ]
  },
  {
   "cell_type": "code",
   "execution_count": 281,
   "id": "af33bda9",
   "metadata": {},
   "outputs": [],
   "source": [
    "from sklearn.preprocessing import LabelEncoder \n",
    "\n",
    "le = LabelEncoder()\n",
    "df['Label'] = le.fit_transform(df['Label'])"
   ]
  },
  {
   "cell_type": "code",
   "execution_count": 282,
   "id": "de73b645",
   "metadata": {},
   "outputs": [],
   "source": [
    "x = df[x_label].to_numpy()\n",
    "y = df['Label'].to_numpy()"
   ]
  },
  {
   "cell_type": "code",
   "execution_count": 283,
   "id": "f971fbb1",
   "metadata": {},
   "outputs": [
    {
     "name": "stdout",
     "output_type": "stream",
     "text": [
      "(55000, 77)\n",
      "(55000,)\n"
     ]
    }
   ],
   "source": [
    "print(x.shape)\n",
    "print(y.shape)"
   ]
  },
  {
   "attachments": {},
   "cell_type": "markdown",
   "id": "c0463205",
   "metadata": {},
   "source": [
    "## Train / Test"
   ]
  },
  {
   "cell_type": "code",
   "execution_count": 284,
   "id": "bb369efc",
   "metadata": {},
   "outputs": [],
   "source": [
    "from sklearn.model_selection import train_test_split\n",
    "train_x, test_x, train_y, test_y = train_test_split(x, y, train_size = 0.8, test_size = 0.2)"
   ]
  },
  {
   "cell_type": "code",
   "execution_count": 285,
   "id": "9ee921dc",
   "metadata": {},
   "outputs": [
    {
     "name": "stdout",
     "output_type": "stream",
     "text": [
      "(44000,)\n",
      "[2 0 8 ... 8 0 0]\n"
     ]
    },
    {
     "data": {
      "text/plain": [
       "0    12010\n",
       "1     4033\n",
       "2     4015\n",
       "4     4005\n",
       "6     4004\n",
       "3     3999\n",
       "8     3991\n",
       "5     3976\n",
       "7     3967\n",
       "dtype: int64"
      ]
     },
     "execution_count": 285,
     "metadata": {},
     "output_type": "execute_result"
    }
   ],
   "source": [
    "print(train_y.shape)\n",
    "print(train_y)\n",
    "pd.Series(train_y).value_counts()"
   ]
  },
  {
   "attachments": {},
   "cell_type": "markdown",
   "id": "55b8abd5",
   "metadata": {},
   "source": [
    "# 3. Modeling 1"
   ]
  },
  {
   "attachments": {},
   "cell_type": "markdown",
   "id": "d0674bf3",
   "metadata": {},
   "source": [
    "## Logistic Regression"
   ]
  },
  {
   "cell_type": "code",
   "execution_count": 286,
   "id": "38ed0f1d",
   "metadata": {},
   "outputs": [
    {
     "name": "stdout",
     "output_type": "stream",
     "text": [
      "train: 0.8866136363636363\n",
      "test: 0.885090909090909\n"
     ]
    },
    {
     "name": "stderr",
     "output_type": "stream",
     "text": [
      "/Library/Frameworks/Python.framework/Versions/3.10/lib/python3.10/site-packages/sklearn/linear_model/_logistic.py:458: ConvergenceWarning: lbfgs failed to converge (status=1):\n",
      "STOP: TOTAL NO. of ITERATIONS REACHED LIMIT.\n",
      "\n",
      "Increase the number of iterations (max_iter) or scale the data as shown in:\n",
      "    https://scikit-learn.org/stable/modules/preprocessing.html\n",
      "Please also refer to the documentation for alternative solver options:\n",
      "    https://scikit-learn.org/stable/modules/linear_model.html#logistic-regression\n",
      "  n_iter_i = _check_optimize_result(\n"
     ]
    }
   ],
   "source": [
    "from sklearn.linear_model import LogisticRegression\n",
    "\n",
    "lr = LogisticRegression(C=30, random_state=42)\n",
    "lr.fit(train_x, train_y)\n",
    "\n",
    "print('train:',lr.score(train_x, train_y))\n",
    "print('test:',lr.score(test_x, test_y))\n",
    "\n",
    "lr_train=lr.predict(train_x)\n",
    "lr_test=lr.predict(test_x)"
   ]
  },
  {
   "attachments": {},
   "cell_type": "markdown",
   "id": "c8314f47",
   "metadata": {},
   "source": [
    "## Decision Tree"
   ]
  },
  {
   "cell_type": "code",
   "execution_count": 287,
   "id": "5aac9ca3",
   "metadata": {},
   "outputs": [
    {
     "name": "stdout",
     "output_type": "stream",
     "text": [
      "train: 0.9997272727272727\n",
      "test: 0.9960909090909091\n"
     ]
    }
   ],
   "source": [
    "from sklearn.tree import DecisionTreeClassifier\n",
    "dt = DecisionTreeClassifier(random_state=42)\n",
    "dt.fit(train_x, train_y)\n",
    "\n",
    "print('train:',dt.score(train_x, train_y))\n",
    "print('test:',dt.score(test_x, test_y))\n",
    "\n",
    "dt_train=dt.predict(train_x)\n",
    "dt_test=dt.predict(test_x)"
   ]
  },
  {
   "attachments": {},
   "cell_type": "markdown",
   "id": "8ec0767d",
   "metadata": {},
   "source": [
    "## Random Forest"
   ]
  },
  {
   "cell_type": "code",
   "execution_count": 288,
   "id": "2ae43439",
   "metadata": {},
   "outputs": [
    {
     "name": "stdout",
     "output_type": "stream",
     "text": [
      "train: 0.9991363636363636\n",
      "test: 0.9972727272727273\n"
     ]
    }
   ],
   "source": [
    "from sklearn.ensemble import RandomForestClassifier\n",
    "\n",
    "rf = RandomForestClassifier(n_jobs=-1, random_state=42)\n",
    "\n",
    "rf.fit(train_x, train_y)\n",
    "\n",
    "print('train:',rf.score(train_x, train_y))\n",
    "print('test:',rf.score(test_x, test_y))\n",
    "\n",
    "rf_train=rf.predict(train_x)\n",
    "rf_test=rf.predict(test_x)"
   ]
  },
  {
   "attachments": {},
   "cell_type": "markdown",
   "id": "163f2609",
   "metadata": {},
   "source": [
    "## XGBoost"
   ]
  },
  {
   "cell_type": "code",
   "execution_count": 289,
   "id": "5f6b607d",
   "metadata": {},
   "outputs": [
    {
     "name": "stdout",
     "output_type": "stream",
     "text": [
      "train: 0.9995\n",
      "test: 0.9986363636363637\n"
     ]
    }
   ],
   "source": [
    "# xgboost\n",
    "from xgboost import XGBClassifier\n",
    "\n",
    "xgb = XGBClassifier(tree_method='hist', random_state=42)\n",
    "xgb.fit(train_x, train_y)\n",
    "\n",
    "print('train:',xgb.score(train_x, train_y))\n",
    "print('test:',xgb.score(test_x, test_y))\n",
    "\n",
    "xgb_train=xgb.predict(train_x)\n",
    "xgb_test=xgb.predict(test_x)"
   ]
  },
  {
   "attachments": {},
   "cell_type": "markdown",
   "id": "128ed064",
   "metadata": {},
   "source": [
    "# 4. Feature Selection"
   ]
  },
  {
   "cell_type": "code",
   "execution_count": 290,
   "id": "d6b750ec",
   "metadata": {},
   "outputs": [
    {
     "name": "stdout",
     "output_type": "stream",
     "text": [
      "feature count: 77 to 15\n",
      "Bwd Packet Length Min      0.101470\n",
      "Init_Win_bytes_backward    0.075737\n",
      "Fwd Packet Length Std      0.063725\n",
      "Packet Length Variance     0.044884\n",
      "Min Packet Length          0.040844\n",
      "Flow IAT Mean              0.035842\n",
      "Packet Length Mean         0.032258\n",
      "PSH Flag Count             0.028936\n",
      "Bwd Packet Length Std      0.027433\n",
      "Init_Win_bytes_forward     0.025857\n",
      "Average Packet Size        0.024974\n",
      "Idle Min                   0.023864\n",
      "Fwd PSH Flags              0.023527\n",
      "Packet Length Std          0.023038\n",
      "Active Min                 0.021165\n",
      "dtype: float64\n"
     ]
    }
   ],
   "source": [
    "dt_feature = dt.feature_importances_\n",
    "rf_feature = rf.feature_importances_\n",
    "xgb_feature = xgb.feature_importances_\n",
    "\n",
    "features = (dt_feature + rf_feature + xgb_feature)/3\n",
    "features_series = pd.Series(features, index=df[x_label].columns.values)\n",
    "\n",
    "features_series_selected = features_series.nlargest(int(len(features)*0.20))\n",
    "feature_selected = features_series_selected.index\n",
    "\n",
    "\n",
    "print('feature count: %d to %d' %(len(features), len(features_series_selected)))\n",
    "print(features_series_selected)\n",
    "\n",
    "x_selected = df[feature_selected].to_numpy()"
   ]
  },
  {
   "attachments": {},
   "cell_type": "markdown",
   "id": "2efbeeb8",
   "metadata": {},
   "source": [
    "# 5. Modeling 2 - After Feature Selected"
   ]
  },
  {
   "attachments": {},
   "cell_type": "markdown",
   "id": "f0ac5682",
   "metadata": {},
   "source": [
    "## Train / Test"
   ]
  },
  {
   "cell_type": "code",
   "execution_count": 291,
   "id": "7aee86d7",
   "metadata": {},
   "outputs": [],
   "source": [
    "from sklearn.model_selection import train_test_split\n",
    "train_x, test_x, train_y, test_y = train_test_split(x_selected, y, train_size = 0.8, test_size = 0.2)"
   ]
  },
  {
   "attachments": {},
   "cell_type": "markdown",
   "id": "a1c6c307",
   "metadata": {},
   "source": [
    "## Logistic Regression"
   ]
  },
  {
   "cell_type": "code",
   "execution_count": 292,
   "id": "37e766f4",
   "metadata": {},
   "outputs": [
    {
     "name": "stdout",
     "output_type": "stream",
     "text": [
      "train: 0.7566136363636363\n",
      "test: 0.761\n"
     ]
    },
    {
     "name": "stderr",
     "output_type": "stream",
     "text": [
      "/Library/Frameworks/Python.framework/Versions/3.10/lib/python3.10/site-packages/sklearn/linear_model/_logistic.py:458: ConvergenceWarning: lbfgs failed to converge (status=1):\n",
      "STOP: TOTAL NO. of ITERATIONS REACHED LIMIT.\n",
      "\n",
      "Increase the number of iterations (max_iter) or scale the data as shown in:\n",
      "    https://scikit-learn.org/stable/modules/preprocessing.html\n",
      "Please also refer to the documentation for alternative solver options:\n",
      "    https://scikit-learn.org/stable/modules/linear_model.html#logistic-regression\n",
      "  n_iter_i = _check_optimize_result(\n"
     ]
    }
   ],
   "source": [
    "from sklearn.linear_model import LogisticRegression\n",
    "\n",
    "lr2 = LogisticRegression(C=30, random_state=42)\n",
    "lr2.fit(train_x, train_y)\n",
    "\n",
    "print('train:',lr2.score(train_x, train_y))\n",
    "print('test:',lr2.score(test_x, test_y))\n",
    "\n",
    "lr2_train=lr2.predict(train_x)\n",
    "lr2_test=lr2.predict(test_x)"
   ]
  },
  {
   "attachments": {},
   "cell_type": "markdown",
   "id": "2b640715",
   "metadata": {},
   "source": [
    "## Decision Tree"
   ]
  },
  {
   "cell_type": "code",
   "execution_count": 293,
   "id": "7537b975",
   "metadata": {},
   "outputs": [
    {
     "name": "stdout",
     "output_type": "stream",
     "text": [
      "train: 0.9995909090909091\n",
      "test: 0.9954545454545455\n"
     ]
    }
   ],
   "source": [
    "from sklearn.tree import DecisionTreeClassifier\n",
    "dt2 = DecisionTreeClassifier(random_state=42)\n",
    "dt2.fit(train_x, train_y)\n",
    "\n",
    "print('train:',dt2.score(train_x, train_y))\n",
    "print('test:',dt2.score(test_x, test_y))\n",
    "\n",
    "# Before:\n",
    "# 0.9997272727272727\n",
    "# 0.9957272727272727\n",
    "\n",
    "dt2_train=dt2.predict(train_x)\n",
    "dt2_test=dt2.predict(test_x)"
   ]
  },
  {
   "attachments": {},
   "cell_type": "markdown",
   "id": "945222a7",
   "metadata": {},
   "source": [
    "## Random Foreset"
   ]
  },
  {
   "cell_type": "code",
   "execution_count": 294,
   "id": "16ab8ffd",
   "metadata": {},
   "outputs": [
    {
     "name": "stdout",
     "output_type": "stream",
     "text": [
      "train: 0.9995227272727273\n",
      "test: 0.9975454545454545\n"
     ]
    }
   ],
   "source": [
    "from sklearn.ensemble import RandomForestClassifier\n",
    "\n",
    "rf2 = RandomForestClassifier(n_jobs=-1, random_state=42)\n",
    "\n",
    "rf2.fit(train_x, train_y)\n",
    "\n",
    "print('train:',rf2.score(train_x, train_y))\n",
    "print('test:',rf2.score(test_x, test_y))\n",
    "\n",
    "# Beofre:\n",
    "# 0.99925\n",
    "# 0.9977272727272727\n",
    "\n",
    "rf2_train=rf2.predict(train_x)\n",
    "rf2_test=rf2.predict(test_x)"
   ]
  },
  {
   "attachments": {},
   "cell_type": "markdown",
   "id": "8c7ce82b",
   "metadata": {},
   "source": [
    "## XGBoost"
   ]
  },
  {
   "cell_type": "code",
   "execution_count": 295,
   "id": "930be499",
   "metadata": {},
   "outputs": [
    {
     "name": "stdout",
     "output_type": "stream",
     "text": [
      "train: 0.9989318181818182\n",
      "test: 0.9978181818181818\n"
     ]
    }
   ],
   "source": [
    "from xgboost import XGBClassifier\n",
    "\n",
    "xgb2 = XGBClassifier(tree_method='hist', random_state=42)\n",
    "xgb2.fit(train_x, train_y)\n",
    "\n",
    "print('train:',xgb2.score(train_x, train_y))\n",
    "print('test:',xgb2.score(test_x, test_y))\n",
    "\n",
    "# Before:\n",
    "# 0.9995454545454545\n",
    "# 0.9981818181818182\n",
    "\n",
    "xgb2_train=xgb2.predict(train_x)\n",
    "xgb2_test=xgb2.predict(test_x)"
   ]
  },
  {
   "attachments": {},
   "cell_type": "markdown",
   "id": "046712a8",
   "metadata": {},
   "source": [
    "# 6. Ensemble"
   ]
  },
  {
   "cell_type": "code",
   "execution_count": 296,
   "id": "511e64ac",
   "metadata": {},
   "outputs": [
    {
     "data": {
      "text/html": [
       "<div>\n",
       "<style scoped>\n",
       "    .dataframe tbody tr th:only-of-type {\n",
       "        vertical-align: middle;\n",
       "    }\n",
       "\n",
       "    .dataframe tbody tr th {\n",
       "        vertical-align: top;\n",
       "    }\n",
       "\n",
       "    .dataframe thead th {\n",
       "        text-align: right;\n",
       "    }\n",
       "</style>\n",
       "<table border=\"1\" class=\"dataframe\">\n",
       "  <thead>\n",
       "    <tr style=\"text-align: right;\">\n",
       "      <th></th>\n",
       "      <th>DecisionTree</th>\n",
       "      <th>RandomForest</th>\n",
       "      <th>XgBoost</th>\n",
       "    </tr>\n",
       "  </thead>\n",
       "  <tbody>\n",
       "    <tr>\n",
       "      <th>0</th>\n",
       "      <td>4</td>\n",
       "      <td>4</td>\n",
       "      <td>4</td>\n",
       "    </tr>\n",
       "    <tr>\n",
       "      <th>1</th>\n",
       "      <td>0</td>\n",
       "      <td>0</td>\n",
       "      <td>0</td>\n",
       "    </tr>\n",
       "    <tr>\n",
       "      <th>2</th>\n",
       "      <td>4</td>\n",
       "      <td>4</td>\n",
       "      <td>4</td>\n",
       "    </tr>\n",
       "    <tr>\n",
       "      <th>3</th>\n",
       "      <td>1</td>\n",
       "      <td>1</td>\n",
       "      <td>1</td>\n",
       "    </tr>\n",
       "    <tr>\n",
       "      <th>4</th>\n",
       "      <td>0</td>\n",
       "      <td>0</td>\n",
       "      <td>0</td>\n",
       "    </tr>\n",
       "    <tr>\n",
       "      <th>...</th>\n",
       "      <td>...</td>\n",
       "      <td>...</td>\n",
       "      <td>...</td>\n",
       "    </tr>\n",
       "    <tr>\n",
       "      <th>43995</th>\n",
       "      <td>2</td>\n",
       "      <td>2</td>\n",
       "      <td>2</td>\n",
       "    </tr>\n",
       "    <tr>\n",
       "      <th>43996</th>\n",
       "      <td>2</td>\n",
       "      <td>2</td>\n",
       "      <td>2</td>\n",
       "    </tr>\n",
       "    <tr>\n",
       "      <th>43997</th>\n",
       "      <td>3</td>\n",
       "      <td>3</td>\n",
       "      <td>3</td>\n",
       "    </tr>\n",
       "    <tr>\n",
       "      <th>43998</th>\n",
       "      <td>5</td>\n",
       "      <td>5</td>\n",
       "      <td>5</td>\n",
       "    </tr>\n",
       "    <tr>\n",
       "      <th>43999</th>\n",
       "      <td>0</td>\n",
       "      <td>0</td>\n",
       "      <td>0</td>\n",
       "    </tr>\n",
       "  </tbody>\n",
       "</table>\n",
       "<p>44000 rows × 3 columns</p>\n",
       "</div>"
      ],
      "text/plain": [
       "       DecisionTree  RandomForest  XgBoost\n",
       "0                 4             4        4\n",
       "1                 0             0        0\n",
       "2                 4             4        4\n",
       "3                 1             1        1\n",
       "4                 0             0        0\n",
       "...             ...           ...      ...\n",
       "43995             2             2        2\n",
       "43996             2             2        2\n",
       "43997             3             3        3\n",
       "43998             5             5        5\n",
       "43999             0             0        0\n",
       "\n",
       "[44000 rows x 3 columns]"
      ]
     },
     "execution_count": 296,
     "metadata": {},
     "output_type": "execute_result"
    }
   ],
   "source": [
    "# not including Logsitc Regression\n",
    "estimators = [\n",
    "    ('DecisionTree', dt2),\n",
    "    ('RandomForest', rf2),\n",
    "    ('XgBoost', xgb2)\n",
    "    ]\n",
    "\n",
    "pd.DataFrame( {\n",
    "    'DecisionTree': dt2_train,\n",
    "    'RandomForest': rf2_train,\n",
    "    'XgBoost': xgb2_train,\n",
    "    })"
   ]
  },
  {
   "cell_type": "code",
   "execution_count": 297,
   "id": "5d06a213",
   "metadata": {},
   "outputs": [
    {
     "name": "stdout",
     "output_type": "stream",
     "text": [
      "train: 0.9995909090909091\n",
      "test: 0.9978181818181818\n"
     ]
    }
   ],
   "source": [
    "from sklearn.ensemble import VotingClassifier\n",
    "\n",
    "vt = VotingClassifier(estimators, voting='soft')\n",
    "vt.fit(train_x, train_y)\n",
    "\n",
    "print('train:',vt.score(train_x, train_y))\n",
    "print('test:',vt.score(test_x, test_y))\n",
    "\n",
    "vt_train=vt.predict(train_x)\n",
    "vt_test=vt.predict(test_x)"
   ]
  }
 ],
 "metadata": {
  "kernelspec": {
   "display_name": "Python 3 (ipykernel)",
   "language": "python",
   "name": "python3"
  },
  "language_info": {
   "codemirror_mode": {
    "name": "ipython",
    "version": 3
   },
   "file_extension": ".py",
   "mimetype": "text/x-python",
   "name": "python",
   "nbconvert_exporter": "python",
   "pygments_lexer": "ipython3",
   "version": "3.10.5"
  }
 },
 "nbformat": 4,
 "nbformat_minor": 5
}
